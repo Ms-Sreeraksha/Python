{
 "cells": [
  {
   "cell_type": "code",
   "execution_count": null,
   "id": "9f01782b",
   "metadata": {},
   "outputs": [],
   "source": [
    "15/10/22- variables , Data types, Concatenating , operators, loop statements"
   ]
  },
  {
   "cell_type": "markdown",
   "id": "3a7c7eb7",
   "metadata": {},
   "source": [
    "### Rules to declare variable"
   ]
  },
  {
   "cell_type": "raw",
   "id": "ae5f9283",
   "metadata": {},
   "source": [
    "1.variables can only be charectors not intergers\n",
    "2.Variables are  case sensitive \n",
    "3.Underscore can be used but not white spaces\n",
    "4.puncuations(special charectors) can not be used\n"
   ]
  },
  {
   "cell_type": "markdown",
   "id": "a4052e5d",
   "metadata": {},
   "source": [
    "## Advanced print conditions"
   ]
  },
  {
   "cell_type": "markdown",
   "id": "c820374c",
   "metadata": {},
   "source": [
    "###### There are three types"
   ]
  },
  {
   "cell_type": "markdown",
   "id": "58a72aa3",
   "metadata": {},
   "source": [
    "###### type 1: using ,"
   ]
  },
  {
   "cell_type": "code",
   "execution_count": 1,
   "id": "80ccc72a",
   "metadata": {},
   "outputs": [
    {
     "name": "stdout",
     "output_type": "stream",
     "text": [
      " my age is 22\n"
     ]
    }
   ],
   "source": [
    "a= 22\n",
    "print(' my age is', a)\n"
   ]
  },
  {
   "cell_type": "code",
   "execution_count": 2,
   "id": "3e1d4174",
   "metadata": {},
   "outputs": [
    {
     "name": "stdout",
     "output_type": "stream",
     "text": [
      "python is very common but java has its own scope\n"
     ]
    }
   ],
   "source": [
    "a='python'\n",
    "b='java'\n",
    "print(a,'is very common but',b, 'has its own scope')"
   ]
  },
  {
   "cell_type": "markdown",
   "id": "adc162e9",
   "metadata": {},
   "source": [
    "###### type 2: using +"
   ]
  },
  {
   "cell_type": "code",
   "execution_count": 1,
   "id": "a97efc13",
   "metadata": {},
   "outputs": [
    {
     "ename": "TypeError",
     "evalue": "can only concatenate str (not \"int\") to str",
     "output_type": "error",
     "traceback": [
      "\u001b[1;31m---------------------------------------------------------------------------\u001b[0m",
      "\u001b[1;31mTypeError\u001b[0m                                 Traceback (most recent call last)",
      "Input \u001b[1;32mIn [1]\u001b[0m, in \u001b[0;36m<cell line: 2>\u001b[1;34m()\u001b[0m\n\u001b[0;32m      1\u001b[0m a\u001b[38;5;241m=\u001b[39m\u001b[38;5;241m42\u001b[39m\n\u001b[1;32m----> 2\u001b[0m \u001b[38;5;28mprint\u001b[39m (\u001b[38;5;124;43m'\u001b[39;49m\u001b[38;5;124;43mmy father is\u001b[39;49m\u001b[38;5;124;43m'\u001b[39;49m\u001b[38;5;241;43m+\u001b[39;49m\u001b[43m \u001b[49m\u001b[43ma\u001b[49m\u001b[38;5;241m+\u001b[39m \u001b[38;5;124m'\u001b[39m\u001b[38;5;124myears old\u001b[39m\u001b[38;5;124m'\u001b[39m)\n",
      "\u001b[1;31mTypeError\u001b[0m: can only concatenate str (not \"int\") to str"
     ]
    }
   ],
   "source": [
    "a=42\n",
    "print ('my father is'+ a+ 'years old')"
   ]
  },
  {
   "cell_type": "code",
   "execution_count": 6,
   "id": "8d123843",
   "metadata": {},
   "outputs": [
    {
     "name": "stdout",
     "output_type": "stream",
     "text": [
      "my father is 42 years old\n"
     ]
    }
   ],
   "source": [
    "a=42\n",
    "print ('my father is '+ str(a) + ' years old')"
   ]
  },
  {
   "cell_type": "code",
   "execution_count": 11,
   "id": "589fc13d",
   "metadata": {},
   "outputs": [
    {
     "name": "stdout",
     "output_type": "stream",
     "text": [
      "I am learning data science with 50000 and i have weekly 3 classes\n"
     ]
    }
   ],
   "source": [
    "# i am learning data science with 50000 and i have weekly 3 classes\n",
    "\n",
    "a='data science'\n",
    "b= 50000\n",
    "c=3\n",
    "print ('I am learning '+ a + ' with ' + str(b)+ ' and i have weekly '+ str(c) +' classes')"
   ]
  },
  {
   "cell_type": "markdown",
   "id": "cf6db97d",
   "metadata": {},
   "source": [
    "###### type 3 : using %"
   ]
  },
  {
   "cell_type": "raw",
   "id": "d9385d9c",
   "metadata": {},
   "source": [
    "###### integer - int - %d\n",
    "###### Float    - float -%f\n",
    "###### String  - str -%s"
   ]
  },
  {
   "cell_type": "code",
   "execution_count": 13,
   "id": "43d5643e",
   "metadata": {},
   "outputs": [
    {
     "name": "stdout",
     "output_type": "stream",
     "text": [
      "I am learning data science with 50000.000000 and i have weekly 3 classes\n"
     ]
    }
   ],
   "source": [
    "# i am learning data science with 50000 and i have weekly 3 classes\n",
    "\n",
    "a='data science'\n",
    "b= 50000\n",
    "c=3\n",
    "print('I am learning %s with %f and i have weekly %d classes'%(a,b,c))"
   ]
  },
  {
   "cell_type": "markdown",
   "id": "89923283",
   "metadata": {},
   "source": [
    "## Operators"
   ]
  },
  {
   "cell_type": "code",
   "execution_count": null,
   "id": "47d8250a",
   "metadata": {},
   "outputs": [],
   "source": [
    "a=10 \n",
    "b=35.8\n",
    "print(a+b)      # add\n",
    "print(a-b)      # subtract\n",
    "print(a*b)      # multiply\n",
    "print (a/b)     # division\n",
    "print(a//b)     # floor division   (removes everything after decimal point) \n",
    "print(25% 5)    # modulus (remainder)\n",
    "print (2**5)    # power function\n",
    "pow(2,8)        # predined power function\n",
    "pow(3,5,2)      # first two power then mod \n",
    "                # ex( 3x3x3x3x3%2)"
   ]
  },
  {
   "cell_type": "raw",
   "id": "ae9e9f50",
   "metadata": {},
   "source": [
    "'==' checks whether Rhs and Lhs are equal( and gives results in boolean) \n",
    "'>=' greater than or equal to \n",
    "'<=' less than or equal to \n",
    "'!=' not equal to\n",
    "'>'  greater than\n",
    "'<'  less than"
   ]
  },
  {
   "cell_type": "markdown",
   "id": "bf62d44f",
   "metadata": {},
   "source": [
    "## Presicion Width and Field width"
   ]
  },
  {
   "cell_type": "raw",
   "id": "533a074e",
   "metadata": {},
   "source": [
    "Field width is the width of Entire number .. Precision width is the precision towards right\n",
    "the default presicion width is set upto 6 decimals"
   ]
  },
  {
   "cell_type": "code",
   "execution_count": 2,
   "id": "1001ca71",
   "metadata": {},
   "outputs": [
    {
     "name": "stdout",
     "output_type": "stream",
     "text": [
      "7.666666666666667\n"
     ]
    }
   ],
   "source": [
    "print(23/3)"
   ]
  },
  {
   "cell_type": "code",
   "execution_count": 3,
   "id": "f5c4daab",
   "metadata": {},
   "outputs": [
    {
     "data": {
      "text/plain": [
       "'hello, world, universe'"
      ]
     },
     "execution_count": 3,
     "metadata": {},
     "output_type": "execute_result"
    }
   ],
   "source": [
    "t = '%(a)s, %(b)s, %(c)s'\n",
    "t % dict(a='hello', b='world', c='universe')"
   ]
  },
  {
   "cell_type": "code",
   "execution_count": 4,
   "id": "772765a0",
   "metadata": {},
   "outputs": [
    {
     "name": "stdout",
     "output_type": "stream",
     "text": [
      "669\n"
     ]
    }
   ],
   "source": [
    "x=\"66\"\n",
    "y= x+str(9)\n",
    "print(y)"
   ]
  },
  {
   "cell_type": "code",
   "execution_count": 5,
   "id": "4a83a70f",
   "metadata": {},
   "outputs": [
    {
     "data": {
      "text/plain": [
       "6"
      ]
     },
     "execution_count": 5,
     "metadata": {},
     "output_type": "execute_result"
    }
   ],
   "source": [
    "~~~~~~6"
   ]
  },
  {
   "cell_type": "code",
   "execution_count": 1,
   "id": "fa965655",
   "metadata": {},
   "outputs": [
    {
     "data": {
      "text/plain": [
       "'3.15'"
      ]
     },
     "execution_count": 1,
     "metadata": {},
     "output_type": "execute_result"
    }
   ],
   "source": [
    "'%.2f' %3.14563785308643  #precesion upto 2 decimal points"
   ]
  },
  {
   "cell_type": "code",
   "execution_count": null,
   "id": "9b183238",
   "metadata": {},
   "outputs": [],
   "source": []
  }
 ],
 "metadata": {
  "kernelspec": {
   "display_name": "Python 3 (ipykernel)",
   "language": "python",
   "name": "python3"
  },
  "language_info": {
   "codemirror_mode": {
    "name": "ipython",
    "version": 3
   },
   "file_extension": ".py",
   "mimetype": "text/x-python",
   "name": "python",
   "nbconvert_exporter": "python",
   "pygments_lexer": "ipython3",
   "version": "3.9.12"
  }
 },
 "nbformat": 4,
 "nbformat_minor": 5
}
