{
 "cells": [
  {
   "cell_type": "code",
   "execution_count": null,
   "id": "7e06074d",
   "metadata": {},
   "outputs": [],
   "source": [
    "14/10/22 -Basic And Advance print condition"
   ]
  },
  {
   "cell_type": "code",
   "execution_count": 1,
   "id": "06fae245",
   "metadata": {},
   "outputs": [
    {
     "name": "stdout",
     "output_type": "stream",
     "text": [
      "My name is raksha\n"
     ]
    }
   ],
   "source": [
    "print('My name is raksha')"
   ]
  },
  {
   "cell_type": "code",
   "execution_count": 5,
   "id": "8682daaf",
   "metadata": {},
   "outputs": [
    {
     "name": "stdout",
     "output_type": "stream",
     "text": [
      "AI is going to rule the world in the next 50 years\n",
      "AI is going to rule the world in the next 50 years\n",
      "AI is going to rule the world in the next 50 years\n",
      "'AI is going to rule the world in the next 50 years'\n"
     ]
    }
   ],
   "source": [
    "print('AI is going to rule the world in the next 50 years')   # anything between '',\" \",''' ''' is a string\n",
    "print(\"AI is going to rule the world in the next 50 years\")\n",
    "print('''AI is going to rule the world in the next 50 years''')\n",
    "print(\"'AI is going to rule the world in the next 50 years'\")"
   ]
  },
  {
   "cell_type": "code",
   "execution_count": 7,
   "id": "d60277af",
   "metadata": {},
   "outputs": [],
   "source": [
    "# keywords are reserved words used for simplifying the programming\n",
    "import keyword"
   ]
  },
  {
   "cell_type": "code",
   "execution_count": 8,
   "id": "9a4b7749",
   "metadata": {},
   "outputs": [
    {
     "name": "stdout",
     "output_type": "stream",
     "text": [
      "['False', 'None', 'True', '__peg_parser__', 'and', 'as', 'assert', 'async', 'await', 'break', 'class', 'continue', 'def', 'del', 'elif', 'else', 'except', 'finally', 'for', 'from', 'global', 'if', 'import', 'in', 'is', 'lambda', 'nonlocal', 'not', 'or', 'pass', 'raise', 'return', 'try', 'while', 'with', 'yield']\n"
     ]
    }
   ],
   "source": [
    "print(keyword.kwlist)"
   ]
  },
  {
   "cell_type": "code",
   "execution_count": 10,
   "id": "a03bda45",
   "metadata": {},
   "outputs": [
    {
     "name": "stdout",
     "output_type": "stream",
     "text": [
      "36\n"
     ]
    }
   ],
   "source": [
    "print(len(keyword.kwlist))"
   ]
  },
  {
   "cell_type": "markdown",
   "id": "40144d1e",
   "metadata": {},
   "source": [
    "### Data Types"
   ]
  },
  {
   "cell_type": "code",
   "execution_count": 12,
   "id": "403cdec1",
   "metadata": {},
   "outputs": [
    {
     "data": {
      "text/plain": [
       "'Integer - represented as int\\n   float -represented as float\\n   string - represented as str'"
      ]
     },
     "execution_count": 12,
     "metadata": {},
     "output_type": "execute_result"
    }
   ],
   "source": [
    "'''Integer - represented as int\n",
    "   float -represented as float\n",
    "   string - represented as str'''"
   ]
  },
  {
   "cell_type": "code",
   "execution_count": null,
   "id": "472fac42",
   "metadata": {},
   "outputs": [],
   "source": [
    "''' Integer = 4 bytes\n",
    "    float =   4 bytes\n",
    "    string =  1 bytes\n",
    "    1 byte  = 8 bits \n",
    "    4 byte =  32 bits '''"
   ]
  },
  {
   "cell_type": "code",
   "execution_count": 13,
   "id": "4810f7d2",
   "metadata": {},
   "outputs": [
    {
     "data": {
      "text/plain": [
       "int"
      ]
     },
     "execution_count": 13,
     "metadata": {},
     "output_type": "execute_result"
    }
   ],
   "source": [
    "# to find its type use type() method \n",
    "a=20\n",
    "type(a)"
   ]
  },
  {
   "cell_type": "code",
   "execution_count": 14,
   "id": "55cf97d2",
   "metadata": {},
   "outputs": [
    {
     "data": {
      "text/plain": [
       "str"
      ]
     },
     "execution_count": 14,
     "metadata": {},
     "output_type": "execute_result"
    }
   ],
   "source": [
    "a='data'\n",
    "type(a)"
   ]
  },
  {
   "cell_type": "code",
   "execution_count": 15,
   "id": "c61ef728",
   "metadata": {},
   "outputs": [
    {
     "data": {
      "text/plain": [
       "str"
      ]
     },
     "execution_count": 15,
     "metadata": {},
     "output_type": "execute_result"
    }
   ],
   "source": [
    "a='10'  #numeric inside quotes is tring\n",
    "type(a)"
   ]
  },
  {
   "cell_type": "markdown",
   "id": "09d3972e",
   "metadata": {},
   "source": [
    "### Data type conversions"
   ]
  },
  {
   "cell_type": "code",
   "execution_count": null,
   "id": "38e03411",
   "metadata": {},
   "outputs": [],
   "source": [
    "Typecasting -converting one data type to another"
   ]
  },
  {
   "cell_type": "code",
   "execution_count": 18,
   "id": "de6c9834",
   "metadata": {},
   "outputs": [
    {
     "name": "stdout",
     "output_type": "stream",
     "text": [
      "<class 'int'>\n",
      "10.0\n"
     ]
    }
   ],
   "source": [
    "#int to float\n",
    "\n",
    "a=10\n",
    "print(type(a))\n",
    "b=float(a)\n",
    "print(b)"
   ]
  },
  {
   "cell_type": "code",
   "execution_count": null,
   "id": "bfcb6d54",
   "metadata": {},
   "outputs": [],
   "source": [
    "integer to string  -if number     -yes\n",
    "                   -if charector  -no "
   ]
  },
  {
   "cell_type": "code",
   "execution_count": null,
   "id": "4ddf1309",
   "metadata": {},
   "outputs": [],
   "source": [
    "float to integer   -yes\n",
    "      to string    -if number - yes\n",
    "                 - if charector -no"
   ]
  },
  {
   "cell_type": "code",
   "execution_count": null,
   "id": "ff149798",
   "metadata": {},
   "outputs": [],
   "source": [
    "string to integer - if number - yes \n",
    "                    if charector- no \n",
    "       to float - if number - yes \n",
    "                    if charector- no"
   ]
  },
  {
   "cell_type": "markdown",
   "id": "f6ad9be5",
   "metadata": {},
   "source": []
  }
 ],
 "metadata": {
  "kernelspec": {
   "display_name": "Python 3 (ipykernel)",
   "language": "python",
   "name": "python3"
  },
  "language_info": {
   "codemirror_mode": {
    "name": "ipython",
    "version": 3
   },
   "file_extension": ".py",
   "mimetype": "text/x-python",
   "name": "python",
   "nbconvert_exporter": "python",
   "pygments_lexer": "ipython3",
   "version": "3.9.12"
  }
 },
 "nbformat": 4,
 "nbformat_minor": 5
}
